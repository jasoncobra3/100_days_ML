{
 "cells": [
  {
   "cell_type": "code",
   "execution_count": 2,
   "id": "d96f01f0-1c0a-4d3b-8b3b-3cb3b3db1622",
   "metadata": {},
   "outputs": [],
   "source": [
    "import pandas as pd\n",
    "import numpy as np"
   ]
  },
  {
   "cell_type": "code",
   "execution_count": 4,
   "id": "4d8865fc-c15a-4581-8745-cfc9904bd5c1",
   "metadata": {},
   "outputs": [],
   "source": [
    "data=pd.read_csv(\"play_tennis.csv\")\n",
    "data.head()\n",
    "data.drop(columns=['day'],inplace=True)"
   ]
  },
  {
   "cell_type": "code",
   "execution_count": 5,
   "id": "992eda07-389b-419a-a36d-07bbbc4dc632",
   "metadata": {},
   "outputs": [
    {
     "data": {
      "text/html": [
       "<div>\n",
       "<style scoped>\n",
       "    .dataframe tbody tr th:only-of-type {\n",
       "        vertical-align: middle;\n",
       "    }\n",
       "\n",
       "    .dataframe tbody tr th {\n",
       "        vertical-align: top;\n",
       "    }\n",
       "\n",
       "    .dataframe thead th {\n",
       "        text-align: right;\n",
       "    }\n",
       "</style>\n",
       "<table border=\"1\" class=\"dataframe\">\n",
       "  <thead>\n",
       "    <tr style=\"text-align: right;\">\n",
       "      <th></th>\n",
       "      <th>outlook</th>\n",
       "      <th>temp</th>\n",
       "      <th>humidity</th>\n",
       "      <th>wind</th>\n",
       "      <th>play</th>\n",
       "    </tr>\n",
       "  </thead>\n",
       "  <tbody>\n",
       "    <tr>\n",
       "      <th>0</th>\n",
       "      <td>Sunny</td>\n",
       "      <td>Hot</td>\n",
       "      <td>High</td>\n",
       "      <td>Weak</td>\n",
       "      <td>No</td>\n",
       "    </tr>\n",
       "    <tr>\n",
       "      <th>1</th>\n",
       "      <td>Sunny</td>\n",
       "      <td>Hot</td>\n",
       "      <td>High</td>\n",
       "      <td>Strong</td>\n",
       "      <td>No</td>\n",
       "    </tr>\n",
       "    <tr>\n",
       "      <th>2</th>\n",
       "      <td>Overcast</td>\n",
       "      <td>Hot</td>\n",
       "      <td>High</td>\n",
       "      <td>Weak</td>\n",
       "      <td>Yes</td>\n",
       "    </tr>\n",
       "    <tr>\n",
       "      <th>3</th>\n",
       "      <td>Rain</td>\n",
       "      <td>Mild</td>\n",
       "      <td>High</td>\n",
       "      <td>Weak</td>\n",
       "      <td>Yes</td>\n",
       "    </tr>\n",
       "    <tr>\n",
       "      <th>4</th>\n",
       "      <td>Rain</td>\n",
       "      <td>Cool</td>\n",
       "      <td>Normal</td>\n",
       "      <td>Weak</td>\n",
       "      <td>Yes</td>\n",
       "    </tr>\n",
       "    <tr>\n",
       "      <th>5</th>\n",
       "      <td>Rain</td>\n",
       "      <td>Cool</td>\n",
       "      <td>Normal</td>\n",
       "      <td>Strong</td>\n",
       "      <td>No</td>\n",
       "    </tr>\n",
       "    <tr>\n",
       "      <th>6</th>\n",
       "      <td>Overcast</td>\n",
       "      <td>Cool</td>\n",
       "      <td>Normal</td>\n",
       "      <td>Strong</td>\n",
       "      <td>Yes</td>\n",
       "    </tr>\n",
       "    <tr>\n",
       "      <th>7</th>\n",
       "      <td>Sunny</td>\n",
       "      <td>Mild</td>\n",
       "      <td>High</td>\n",
       "      <td>Weak</td>\n",
       "      <td>No</td>\n",
       "    </tr>\n",
       "    <tr>\n",
       "      <th>8</th>\n",
       "      <td>Sunny</td>\n",
       "      <td>Cool</td>\n",
       "      <td>Normal</td>\n",
       "      <td>Weak</td>\n",
       "      <td>Yes</td>\n",
       "    </tr>\n",
       "    <tr>\n",
       "      <th>9</th>\n",
       "      <td>Rain</td>\n",
       "      <td>Mild</td>\n",
       "      <td>Normal</td>\n",
       "      <td>Weak</td>\n",
       "      <td>Yes</td>\n",
       "    </tr>\n",
       "    <tr>\n",
       "      <th>10</th>\n",
       "      <td>Sunny</td>\n",
       "      <td>Mild</td>\n",
       "      <td>Normal</td>\n",
       "      <td>Strong</td>\n",
       "      <td>Yes</td>\n",
       "    </tr>\n",
       "    <tr>\n",
       "      <th>11</th>\n",
       "      <td>Overcast</td>\n",
       "      <td>Mild</td>\n",
       "      <td>High</td>\n",
       "      <td>Strong</td>\n",
       "      <td>Yes</td>\n",
       "    </tr>\n",
       "    <tr>\n",
       "      <th>12</th>\n",
       "      <td>Overcast</td>\n",
       "      <td>Hot</td>\n",
       "      <td>Normal</td>\n",
       "      <td>Weak</td>\n",
       "      <td>Yes</td>\n",
       "    </tr>\n",
       "    <tr>\n",
       "      <th>13</th>\n",
       "      <td>Rain</td>\n",
       "      <td>Mild</td>\n",
       "      <td>High</td>\n",
       "      <td>Strong</td>\n",
       "      <td>No</td>\n",
       "    </tr>\n",
       "  </tbody>\n",
       "</table>\n",
       "</div>"
      ],
      "text/plain": [
       "     outlook  temp humidity    wind play\n",
       "0      Sunny   Hot     High    Weak   No\n",
       "1      Sunny   Hot     High  Strong   No\n",
       "2   Overcast   Hot     High    Weak  Yes\n",
       "3       Rain  Mild     High    Weak  Yes\n",
       "4       Rain  Cool   Normal    Weak  Yes\n",
       "5       Rain  Cool   Normal  Strong   No\n",
       "6   Overcast  Cool   Normal  Strong  Yes\n",
       "7      Sunny  Mild     High    Weak   No\n",
       "8      Sunny  Cool   Normal    Weak  Yes\n",
       "9       Rain  Mild   Normal    Weak  Yes\n",
       "10     Sunny  Mild   Normal  Strong  Yes\n",
       "11  Overcast  Mild     High  Strong  Yes\n",
       "12  Overcast   Hot   Normal    Weak  Yes\n",
       "13      Rain  Mild     High  Strong   No"
      ]
     },
     "execution_count": 5,
     "metadata": {},
     "output_type": "execute_result"
    }
   ],
   "source": [
    "data"
   ]
  },
  {
   "cell_type": "markdown",
   "id": "06f78344-1b88-4f1f-85b6-5eff425cf45a",
   "metadata": {},
   "source": [
    "### Problem 1\n",
    "- outlook=sunny, temp=hot, Humidity=High, Wind=Weak\n",
    "- Play or No play"
   ]
  },
  {
   "cell_type": "markdown",
   "id": "1a535169-6c93-49db-8e24-68f96a1aa85c",
   "metadata": {},
   "source": [
    "### Solution\n",
    "- P(Yes|Sunny,Hot, High , Weak)=P(Sunny|yes)*P(Hot|Yes)*P(High|Yes)*P(Weak|Yes)*P(Yes)\n",
    "- P(No|Sunny,Hot, High , Weak)=P(Sunny|No)*P(Hot|No)*P(High|No)*P(Weak|No)*P(No)\n",
    "- Compare and Decide using Maximum a posteriori Rule"
   ]
  },
  {
   "cell_type": "markdown",
   "id": "74728bd1-af86-4045-842a-3bf1ee9659f0",
   "metadata": {},
   "source": [
    "### Problem 2\n",
    "- Outlook=Overcast , Temp=Cold , Humidity=Low , Wind=Weak\n",
    "- Play or no Play"
   ]
  },
  {
   "cell_type": "markdown",
   "id": "2f69cc0e-cfb0-42bd-9b91-e3722765ec68",
   "metadata": {},
   "source": [
    "### Solution\n",
    "- P(Yes|Overcast,Cold, Low , Weak)=P(Overcast|yes)*P(Cold|Yes)*P(Low|Yes)*P(Weak|Yes)*P(Yes)\n",
    "- P(No|Overcast,Cold, Low , Weak)=P(Overcast|No)*P(Cold|No)*P(Low|No)*P(Weak|No)*P(No)\n",
    "- Compare and Decide using Maximum a posteriori Rule"
   ]
  },
  {
   "cell_type": "markdown",
   "id": "bd366bc6-6b32-4cad-a54b-2f883a1571b7",
   "metadata": {},
   "source": [
    "- Training\n",
    "- Lookup table (Dictionary)\n",
    "- Testing"
   ]
  },
  {
   "cell_type": "markdown",
   "id": "71b6ded8-514c-4e48-8d54-914ea05ae12f",
   "metadata": {},
   "source": [
    "- P(Yes)\n",
    "- P(No)"
   ]
  },
  {
   "cell_type": "code",
   "execution_count": 6,
   "id": "1e7e38a4-fc8e-4a77-a0eb-305e01d57ce5",
   "metadata": {},
   "outputs": [
    {
     "data": {
      "text/plain": [
       "play\n",
       "Yes    9\n",
       "No     5\n",
       "Name: count, dtype: int64"
      ]
     },
     "execution_count": 6,
     "metadata": {},
     "output_type": "execute_result"
    }
   ],
   "source": [
    "data[\"play\"].value_counts()"
   ]
  },
  {
   "cell_type": "code",
   "execution_count": 7,
   "id": "cf1bbbbe-716a-4b86-8754-f1dee84398cd",
   "metadata": {},
   "outputs": [],
   "source": [
    "#Probablity of yes\n",
    "py=9/14\n",
    "#probablity of No\n",
    "pn=5/14"
   ]
  },
  {
   "cell_type": "code",
   "execution_count": 8,
   "id": "5465c05b-4148-4276-a35e-c4a5c4937970",
   "metadata": {},
   "outputs": [
    {
     "name": "stdout",
     "output_type": "stream",
     "text": [
      "0.6428571428571429\n",
      "0.35714285714285715\n"
     ]
    }
   ],
   "source": [
    "print(py)\n",
    "print(pn)"
   ]
  },
  {
   "cell_type": "code",
   "execution_count": 10,
   "id": "1fa262cc-b900-45a8-b0a7-f001366cfc5c",
   "metadata": {},
   "outputs": [
    {
     "data": {
      "text/html": [
       "<div>\n",
       "<style scoped>\n",
       "    .dataframe tbody tr th:only-of-type {\n",
       "        vertical-align: middle;\n",
       "    }\n",
       "\n",
       "    .dataframe tbody tr th {\n",
       "        vertical-align: top;\n",
       "    }\n",
       "\n",
       "    .dataframe thead th {\n",
       "        text-align: right;\n",
       "    }\n",
       "</style>\n",
       "<table border=\"1\" class=\"dataframe\">\n",
       "  <thead>\n",
       "    <tr style=\"text-align: right;\">\n",
       "      <th>play</th>\n",
       "      <th>No</th>\n",
       "      <th>Yes</th>\n",
       "    </tr>\n",
       "    <tr>\n",
       "      <th>outlook</th>\n",
       "      <th></th>\n",
       "      <th></th>\n",
       "    </tr>\n",
       "  </thead>\n",
       "  <tbody>\n",
       "    <tr>\n",
       "      <th>Overcast</th>\n",
       "      <td>0</td>\n",
       "      <td>4</td>\n",
       "    </tr>\n",
       "    <tr>\n",
       "      <th>Rain</th>\n",
       "      <td>2</td>\n",
       "      <td>3</td>\n",
       "    </tr>\n",
       "    <tr>\n",
       "      <th>Sunny</th>\n",
       "      <td>3</td>\n",
       "      <td>2</td>\n",
       "    </tr>\n",
       "  </tbody>\n",
       "</table>\n",
       "</div>"
      ],
      "text/plain": [
       "play      No  Yes\n",
       "outlook          \n",
       "Overcast   0    4\n",
       "Rain       2    3\n",
       "Sunny      3    2"
      ]
     },
     "execution_count": 10,
     "metadata": {},
     "output_type": "execute_result"
    }
   ],
   "source": [
    "#Outlook\n",
    "pd.crosstab(data[\"outlook\"],data[\"play\"])"
   ]
  },
  {
   "cell_type": "code",
   "execution_count": 11,
   "id": "9cf5f175-bd16-4b94-be2f-afc870b89037",
   "metadata": {},
   "outputs": [],
   "source": [
    "#Probality overcast for no\n",
    "Pon=0\n",
    "#For rain\n",
    "Prn=2/5\n",
    "#For sunny\n",
    "Psn=3/5\n",
    "\n",
    "#probablity Overcast for Yes\n",
    "Poy=4/9\n",
    "#for Rain\n",
    "Pry=3/9\n",
    "#For Sunny\n",
    "Psy=2/9"
   ]
  },
  {
   "cell_type": "code",
   "execution_count": 12,
   "id": "63144662-fec7-4b0f-b689-377c3f7b71c7",
   "metadata": {},
   "outputs": [
    {
     "data": {
      "text/html": [
       "<div>\n",
       "<style scoped>\n",
       "    .dataframe tbody tr th:only-of-type {\n",
       "        vertical-align: middle;\n",
       "    }\n",
       "\n",
       "    .dataframe tbody tr th {\n",
       "        vertical-align: top;\n",
       "    }\n",
       "\n",
       "    .dataframe thead th {\n",
       "        text-align: right;\n",
       "    }\n",
       "</style>\n",
       "<table border=\"1\" class=\"dataframe\">\n",
       "  <thead>\n",
       "    <tr style=\"text-align: right;\">\n",
       "      <th>play</th>\n",
       "      <th>No</th>\n",
       "      <th>Yes</th>\n",
       "    </tr>\n",
       "    <tr>\n",
       "      <th>temp</th>\n",
       "      <th></th>\n",
       "      <th></th>\n",
       "    </tr>\n",
       "  </thead>\n",
       "  <tbody>\n",
       "    <tr>\n",
       "      <th>Cool</th>\n",
       "      <td>1</td>\n",
       "      <td>3</td>\n",
       "    </tr>\n",
       "    <tr>\n",
       "      <th>Hot</th>\n",
       "      <td>2</td>\n",
       "      <td>2</td>\n",
       "    </tr>\n",
       "    <tr>\n",
       "      <th>Mild</th>\n",
       "      <td>2</td>\n",
       "      <td>4</td>\n",
       "    </tr>\n",
       "  </tbody>\n",
       "</table>\n",
       "</div>"
      ],
      "text/plain": [
       "play  No  Yes\n",
       "temp         \n",
       "Cool   1    3\n",
       "Hot    2    2\n",
       "Mild   2    4"
      ]
     },
     "execution_count": 12,
     "metadata": {},
     "output_type": "execute_result"
    }
   ],
   "source": [
    "#Temprature\n",
    "pd.crosstab(data[\"temp\"],data[\"play\"])"
   ]
  },
  {
   "cell_type": "code",
   "execution_count": 13,
   "id": "5d2418cb-9de6-49a1-bff6-e13da0327d60",
   "metadata": {},
   "outputs": [],
   "source": [
    "#probablity of Cool for No\n",
    "PCoolNo=1/5\n",
    "#For Hot\n",
    "PHotNo=2/5\n",
    "#for Mild\n",
    "PMildNo=2/5\n",
    "\n",
    "#probablity of Cool for Yes\n",
    "PCoolYes=3/9\n",
    "#for Hot\n",
    "PHotYes=2/9\n",
    "#For Mild\n",
    "PMildYes=4/9"
   ]
  },
  {
   "cell_type": "code",
   "execution_count": 14,
   "id": "a21f667a-6663-4e9c-a319-b47bc9db2415",
   "metadata": {},
   "outputs": [
    {
     "data": {
      "text/html": [
       "<div>\n",
       "<style scoped>\n",
       "    .dataframe tbody tr th:only-of-type {\n",
       "        vertical-align: middle;\n",
       "    }\n",
       "\n",
       "    .dataframe tbody tr th {\n",
       "        vertical-align: top;\n",
       "    }\n",
       "\n",
       "    .dataframe thead th {\n",
       "        text-align: right;\n",
       "    }\n",
       "</style>\n",
       "<table border=\"1\" class=\"dataframe\">\n",
       "  <thead>\n",
       "    <tr style=\"text-align: right;\">\n",
       "      <th>play</th>\n",
       "      <th>No</th>\n",
       "      <th>Yes</th>\n",
       "    </tr>\n",
       "    <tr>\n",
       "      <th>humidity</th>\n",
       "      <th></th>\n",
       "      <th></th>\n",
       "    </tr>\n",
       "  </thead>\n",
       "  <tbody>\n",
       "    <tr>\n",
       "      <th>High</th>\n",
       "      <td>4</td>\n",
       "      <td>3</td>\n",
       "    </tr>\n",
       "    <tr>\n",
       "      <th>Normal</th>\n",
       "      <td>1</td>\n",
       "      <td>6</td>\n",
       "    </tr>\n",
       "  </tbody>\n",
       "</table>\n",
       "</div>"
      ],
      "text/plain": [
       "play      No  Yes\n",
       "humidity         \n",
       "High       4    3\n",
       "Normal     1    6"
      ]
     },
     "execution_count": 14,
     "metadata": {},
     "output_type": "execute_result"
    }
   ],
   "source": [
    "#Humidity\n",
    "pd.crosstab(data[\"humidity\"],data[\"play\"])"
   ]
  },
  {
   "cell_type": "code",
   "execution_count": 15,
   "id": "f35a35e1-7e19-48e1-9a97-05fcf167e853",
   "metadata": {},
   "outputs": [],
   "source": [
    "#Probablity of high for no\n",
    "PHighNo=4/5\n",
    "#For Normal\n",
    "PNormalNo=1/5\n",
    "\n",
    "#Probablity of high for no\n",
    "PHighYes=3/9\n",
    "#for normal\n",
    "PNormalYes=6/9"
   ]
  },
  {
   "cell_type": "code",
   "execution_count": 16,
   "id": "1fd6f51f-768e-4718-bef6-0998051d971b",
   "metadata": {},
   "outputs": [
    {
     "data": {
      "text/html": [
       "<div>\n",
       "<style scoped>\n",
       "    .dataframe tbody tr th:only-of-type {\n",
       "        vertical-align: middle;\n",
       "    }\n",
       "\n",
       "    .dataframe tbody tr th {\n",
       "        vertical-align: top;\n",
       "    }\n",
       "\n",
       "    .dataframe thead th {\n",
       "        text-align: right;\n",
       "    }\n",
       "</style>\n",
       "<table border=\"1\" class=\"dataframe\">\n",
       "  <thead>\n",
       "    <tr style=\"text-align: right;\">\n",
       "      <th>play</th>\n",
       "      <th>No</th>\n",
       "      <th>Yes</th>\n",
       "    </tr>\n",
       "    <tr>\n",
       "      <th>wind</th>\n",
       "      <th></th>\n",
       "      <th></th>\n",
       "    </tr>\n",
       "  </thead>\n",
       "  <tbody>\n",
       "    <tr>\n",
       "      <th>Strong</th>\n",
       "      <td>3</td>\n",
       "      <td>3</td>\n",
       "    </tr>\n",
       "    <tr>\n",
       "      <th>Weak</th>\n",
       "      <td>2</td>\n",
       "      <td>6</td>\n",
       "    </tr>\n",
       "  </tbody>\n",
       "</table>\n",
       "</div>"
      ],
      "text/plain": [
       "play    No  Yes\n",
       "wind           \n",
       "Strong   3    3\n",
       "Weak     2    6"
      ]
     },
     "execution_count": 16,
     "metadata": {},
     "output_type": "execute_result"
    }
   ],
   "source": [
    "#Wind\n",
    "pd.crosstab(data[\"wind\"],data[\"play\"])"
   ]
  },
  {
   "cell_type": "code",
   "execution_count": 17,
   "id": "3a892fe7-755c-4539-8b1e-d807afe50079",
   "metadata": {},
   "outputs": [],
   "source": [
    "#Probablity of Strong for No\n",
    "PStrongNo=3/5\n",
    "#for Weak\n",
    "PWeakNo=2/5\n",
    "\n",
    "#Probablity of Strong for Yes\n",
    "PStrongYes=3/9\n",
    "#for Weak\n",
    "PWeakYes=6/9\n"
   ]
  },
  {
   "cell_type": "code",
   "execution_count": 18,
   "id": "2be4f93e-ad9b-4941-94f6-9e3e943b5987",
   "metadata": {},
   "outputs": [
    {
     "name": "stdout",
     "output_type": "stream",
     "text": [
      "0.007054673721340388\n"
     ]
    }
   ],
   "source": [
    "# outlook=sunny, temp=hot, Humidity=High, Wind=Weak\n",
    "\n",
    "Pyes=py*Psy*PHotYes*PHighYes*PWeakYes\n",
    "print(Pyes)"
   ]
  },
  {
   "cell_type": "code",
   "execution_count": 20,
   "id": "2ee8e803-328c-40b7-b790-28b718b2ab14",
   "metadata": {},
   "outputs": [
    {
     "name": "stdout",
     "output_type": "stream",
     "text": [
      "0.02742857142857143\n"
     ]
    }
   ],
   "source": [
    "Pno=pn*Psn*PHotNo*PHighNo*PWeakNo\n",
    "print(Pno)"
   ]
  },
  {
   "cell_type": "markdown",
   "id": "73467eb1-2aef-4d97-9228-97edc687b58e",
   "metadata": {},
   "source": [
    "- Compare and Decide using Maximum a posteriori Rule\n",
    "- as Pyes<Pno\n",
    "- We Conclude There will be no Play \n"
   ]
  },
  {
   "cell_type": "markdown",
   "id": "811335f1-07ba-4947-94c2-94bbc3a2b289",
   "metadata": {},
   "source": [
    "# Conclude"
   ]
  }
 ],
 "metadata": {
  "kernelspec": {
   "display_name": "Python 3 (ipykernel)",
   "language": "python",
   "name": "python3"
  },
  "language_info": {
   "codemirror_mode": {
    "name": "ipython",
    "version": 3
   },
   "file_extension": ".py",
   "mimetype": "text/x-python",
   "name": "python",
   "nbconvert_exporter": "python",
   "pygments_lexer": "ipython3",
   "version": "3.11.7"
  }
 },
 "nbformat": 4,
 "nbformat_minor": 5
}
