{
 "cells": [
  {
   "cell_type": "markdown",
   "id": "df97171d-d7c0-4a3a-adc5-eb67b48c2680",
   "metadata": {},
   "source": [
    "### class sklearn.cluster.AgglomerativeClustering(n_clusters=2, *, metric='euclidean', memory=None, connectivity=None, compute_full_tree='auto', linkage='ward', distance_threshold=None, compute_distances=False)[source]"
   ]
  },
  {
   "cell_type": "markdown",
   "id": "00b37f79-b7a4-4c74-bbc8-efa3b027674d",
   "metadata": {},
   "source": [
    "## 1.n_clusters:int or None, default=2\n",
    "The number of clusters to find. It must be None if distance_threshold is not None."
   ]
  },
  {
   "cell_type": "markdown",
   "id": "fb5f79da-f6c6-4b06-b88c-83e1a5b59024",
   "metadata": {},
   "source": [
    "## 2.metricstr or callable, default=”euclidean”<br>\n",
    "Metric used to compute the linkage. Can be “euclidean”, “l1”, “l2”, “manhattan”, “cosine”, or “precomputed”. If linkage is “ward”, only “euclidean” is accepted. If “precomputed”, a distance matrix is needed as input for the fit method<br> This parameter decides which metrics is used for calculating the distance between points."
   ]
  },
  {
   "cell_type": "markdown",
   "id": "d3366418-6853-4d20-a748-3c740a061cc2",
   "metadata": {},
   "source": [
    "## 3.linkage{‘ward’, ‘complete’, ‘average’, ‘single’}, default=’ward’\n",
    "This parameter decides which type of Clustering is used for forming the clusters , its default value is Ward. sets.<br> Basically it decides which type of clustering we choose ."
   ]
  },
  {
   "cell_type": "markdown",
   "id": "ed44c6ab-da54-4ea0-816c-088aaca1e62e",
   "metadata": {},
   "source": [
    "## 4.distance_threshold:float, default=None\n",
    "The linkage distance threshold at or above` which clusters will not be merged. If not None, n_clusters must be None and compute_full_tree must be True.\n",
    "<br>Can be use to form a threshold for distance, which decides merging criteria of Clusters."
   ]
  },
  {
   "cell_type": "markdown",
   "id": "51fa257f-a15d-4264-ab04-dbfab19abde5",
   "metadata": {},
   "source": [
    "# Conclude"
   ]
  }
 ],
 "metadata": {
  "kernelspec": {
   "display_name": "Python 3 (ipykernel)",
   "language": "python",
   "name": "python3"
  },
  "language_info": {
   "codemirror_mode": {
    "name": "ipython",
    "version": 3
   },
   "file_extension": ".py",
   "mimetype": "text/x-python",
   "name": "python",
   "nbconvert_exporter": "python",
   "pygments_lexer": "ipython3",
   "version": "3.11.7"
  }
 },
 "nbformat": 4,
 "nbformat_minor": 5
}
