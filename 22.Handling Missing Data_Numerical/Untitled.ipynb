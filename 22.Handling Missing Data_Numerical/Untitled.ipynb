{
 "cells": [
  {
   "cell_type": "markdown",
   "id": "560dcdae",
   "metadata": {},
   "source": [
    "### 1.Mean/Median Imputation<br>A. When Data is equally distributed use Mean <br> B. When Data is Skewed Use Median\n"
   ]
  },
  {
   "cell_type": "markdown",
   "id": "989997bc",
   "metadata": {},
   "source": [
    "### Benenfits\n",
    "1.It Is simple Tachnique<br>\n",
    "2.Use when Data is Null value is less than of 5% of Data(>5%)"
   ]
  },
  {
   "cell_type": "markdown",
   "id": "15f2cb56",
   "metadata": {},
   "source": [
    "### Disadvantages\n",
    "1.It changes Data Distribution Shape<br>\n",
    "2.It Generates Ouliers In the Data<br>\n",
    "3.It changes Correlation between columns."
   ]
  },
  {
   "cell_type": "markdown",
   "id": "776688ad",
   "metadata": {},
   "source": [
    "### Where to use\n",
    "1.Missing Value at Random.<br>\n",
    "2.When Missing valus is Less than of 5% of the data.(>5%)"
   ]
  },
  {
   "cell_type": "code",
   "execution_count": 2,
   "id": "6c4f36e1",
   "metadata": {},
   "outputs": [],
   "source": [
    "import pandas as pd\n",
    "import numpy as np\n",
    "import matplotlib.pyplot as plt\n",
    "from sklearn.model_selection import train_test_split\n",
    "from sklearn.impute import SimpleImputer\n",
    "from sklearn.compose import ColumnTransformer"
   ]
  },
  {
   "cell_type": "code",
   "execution_count": 3,
   "id": "5166dc4a",
   "metadata": {},
   "outputs": [],
   "source": [
    "df=pd.read_csv(\"titanic_toy.csv\")"
   ]
  },
  {
   "cell_type": "code",
   "execution_count": 4,
   "id": "e9a94dd9",
   "metadata": {},
   "outputs": [
    {
     "data": {
      "text/html": [
       "<div>\n",
       "<style scoped>\n",
       "    .dataframe tbody tr th:only-of-type {\n",
       "        vertical-align: middle;\n",
       "    }\n",
       "\n",
       "    .dataframe tbody tr th {\n",
       "        vertical-align: top;\n",
       "    }\n",
       "\n",
       "    .dataframe thead th {\n",
       "        text-align: right;\n",
       "    }\n",
       "</style>\n",
       "<table border=\"1\" class=\"dataframe\">\n",
       "  <thead>\n",
       "    <tr style=\"text-align: right;\">\n",
       "      <th></th>\n",
       "      <th>Age</th>\n",
       "      <th>Fare</th>\n",
       "      <th>Family</th>\n",
       "      <th>Survived</th>\n",
       "    </tr>\n",
       "  </thead>\n",
       "  <tbody>\n",
       "    <tr>\n",
       "      <th>0</th>\n",
       "      <td>22.0</td>\n",
       "      <td>7.2500</td>\n",
       "      <td>1</td>\n",
       "      <td>0</td>\n",
       "    </tr>\n",
       "    <tr>\n",
       "      <th>1</th>\n",
       "      <td>38.0</td>\n",
       "      <td>71.2833</td>\n",
       "      <td>1</td>\n",
       "      <td>1</td>\n",
       "    </tr>\n",
       "    <tr>\n",
       "      <th>2</th>\n",
       "      <td>26.0</td>\n",
       "      <td>7.9250</td>\n",
       "      <td>0</td>\n",
       "      <td>1</td>\n",
       "    </tr>\n",
       "    <tr>\n",
       "      <th>3</th>\n",
       "      <td>35.0</td>\n",
       "      <td>53.1000</td>\n",
       "      <td>1</td>\n",
       "      <td>1</td>\n",
       "    </tr>\n",
       "    <tr>\n",
       "      <th>4</th>\n",
       "      <td>35.0</td>\n",
       "      <td>8.0500</td>\n",
       "      <td>0</td>\n",
       "      <td>0</td>\n",
       "    </tr>\n",
       "  </tbody>\n",
       "</table>\n",
       "</div>"
      ],
      "text/plain": [
       "    Age     Fare  Family  Survived\n",
       "0  22.0   7.2500       1         0\n",
       "1  38.0  71.2833       1         1\n",
       "2  26.0   7.9250       0         1\n",
       "3  35.0  53.1000       1         1\n",
       "4  35.0   8.0500       0         0"
      ]
     },
     "execution_count": 4,
     "metadata": {},
     "output_type": "execute_result"
    }
   ],
   "source": [
    "df.head()"
   ]
  },
  {
   "cell_type": "code",
   "execution_count": 5,
   "id": "ce6a4eef",
   "metadata": {},
   "outputs": [
    {
     "name": "stdout",
     "output_type": "stream",
     "text": [
      "<class 'pandas.core.frame.DataFrame'>\n",
      "RangeIndex: 891 entries, 0 to 890\n",
      "Data columns (total 4 columns):\n",
      " #   Column    Non-Null Count  Dtype  \n",
      "---  ------    --------------  -----  \n",
      " 0   Age       714 non-null    float64\n",
      " 1   Fare      846 non-null    float64\n",
      " 2   Family    891 non-null    int64  \n",
      " 3   Survived  891 non-null    int64  \n",
      "dtypes: float64(2), int64(2)\n",
      "memory usage: 28.0 KB\n"
     ]
    }
   ],
   "source": [
    "df.info()"
   ]
  },
  {
   "cell_type": "code",
   "execution_count": 6,
   "id": "8533f172",
   "metadata": {},
   "outputs": [
    {
     "data": {
      "text/plain": [
       "Age         0.198653\n",
       "Fare        0.050505\n",
       "Family      0.000000\n",
       "Survived    0.000000\n",
       "dtype: float64"
      ]
     },
     "execution_count": 6,
     "metadata": {},
     "output_type": "execute_result"
    }
   ],
   "source": [
    "df.isnull().mean()"
   ]
  },
  {
   "cell_type": "markdown",
   "id": "e6d589f9",
   "metadata": {},
   "source": [
    "##### From the Above data we can see that , Age has 19% Missing values  and Fare has 0.05% missing values"
   ]
  },
  {
   "cell_type": "code",
   "execution_count": 7,
   "id": "93d4acf7",
   "metadata": {},
   "outputs": [],
   "source": [
    "X=df.drop(columns=[\"Survived\"])\n",
    "Y=df[\"Survived\"]"
   ]
  },
  {
   "cell_type": "code",
   "execution_count": 8,
   "id": "62efdba2",
   "metadata": {},
   "outputs": [],
   "source": [
    "X_train,X_test,Y_train,Y_test=train_test_split(X,Y,test_size=0.2,random_state=42)"
   ]
  },
  {
   "cell_type": "code",
   "execution_count": 10,
   "id": "6764c848",
   "metadata": {},
   "outputs": [
    {
     "data": {
      "text/plain": [
       "((712, 3), (179, 3))"
      ]
     },
     "execution_count": 10,
     "metadata": {},
     "output_type": "execute_result"
    }
   ],
   "source": [
    "X_train.shape,X_test.shape"
   ]
  },
  {
   "cell_type": "code",
   "execution_count": 11,
   "id": "bfd69990",
   "metadata": {},
   "outputs": [
    {
     "data": {
      "text/plain": [
       "Age       0.196629\n",
       "Fare      0.050562\n",
       "Family    0.000000\n",
       "dtype: float64"
      ]
     },
     "execution_count": 11,
     "metadata": {},
     "output_type": "execute_result"
    }
   ],
   "source": [
    "X_train.isnull().mean()"
   ]
  },
  {
   "cell_type": "markdown",
   "id": "eff55999",
   "metadata": {},
   "source": [
    "##### we are replacing the value in X_test with the same imputer we are using in X_train"
   ]
  },
  {
   "cell_type": "code",
   "execution_count": 12,
   "id": "0eb05384",
   "metadata": {},
   "outputs": [],
   "source": [
    "median_age=X_train[\"Age\"].median()\n",
    "mean_age=X_train[\"Age\"].mean()\n",
    "\n",
    "median_fare=X_train[\"Fare\"].median()\n",
    "mean_fare=X_train[\"Fare\"].mean()"
   ]
  },
  {
   "cell_type": "code",
   "execution_count": 13,
   "id": "07ef6508",
   "metadata": {},
   "outputs": [],
   "source": [
    "X_train[\"Age_median\"]=X_train[\"Age\"].fillna(median_age)\n",
    "X_train[\"Age_Mean\"]=X_train[\"Age\"].fillna(mean_age)\n",
    "\n",
    "X_train[\"Fare_median\"]=X_train[\"Fare\"].fillna(median_fare)\n",
    "X_train[\"Fare_mean\"]=X_train[\"Fare\"].fillna(mean_fare)"
   ]
  },
  {
   "cell_type": "code",
   "execution_count": 14,
   "id": "30c6e731",
   "metadata": {},
   "outputs": [
    {
     "data": {
      "text/html": [
       "<div>\n",
       "<style scoped>\n",
       "    .dataframe tbody tr th:only-of-type {\n",
       "        vertical-align: middle;\n",
       "    }\n",
       "\n",
       "    .dataframe tbody tr th {\n",
       "        vertical-align: top;\n",
       "    }\n",
       "\n",
       "    .dataframe thead th {\n",
       "        text-align: right;\n",
       "    }\n",
       "</style>\n",
       "<table border=\"1\" class=\"dataframe\">\n",
       "  <thead>\n",
       "    <tr style=\"text-align: right;\">\n",
       "      <th></th>\n",
       "      <th>Age</th>\n",
       "      <th>Fare</th>\n",
       "      <th>Family</th>\n",
       "      <th>Age_median</th>\n",
       "      <th>Age_Mean</th>\n",
       "      <th>Fare_median</th>\n",
       "      <th>Fare_mean</th>\n",
       "    </tr>\n",
       "  </thead>\n",
       "  <tbody>\n",
       "    <tr>\n",
       "      <th>26</th>\n",
       "      <td>NaN</td>\n",
       "      <td>7.2250</td>\n",
       "      <td>0</td>\n",
       "      <td>28.0</td>\n",
       "      <td>29.498846</td>\n",
       "      <td>7.2250</td>\n",
       "      <td>7.2250</td>\n",
       "    </tr>\n",
       "    <tr>\n",
       "      <th>22</th>\n",
       "      <td>15.0</td>\n",
       "      <td>8.0292</td>\n",
       "      <td>0</td>\n",
       "      <td>15.0</td>\n",
       "      <td>15.000000</td>\n",
       "      <td>8.0292</td>\n",
       "      <td>8.0292</td>\n",
       "    </tr>\n",
       "    <tr>\n",
       "      <th>651</th>\n",
       "      <td>18.0</td>\n",
       "      <td>23.0000</td>\n",
       "      <td>1</td>\n",
       "      <td>18.0</td>\n",
       "      <td>18.000000</td>\n",
       "      <td>23.0000</td>\n",
       "      <td>23.0000</td>\n",
       "    </tr>\n",
       "    <tr>\n",
       "      <th>817</th>\n",
       "      <td>31.0</td>\n",
       "      <td>37.0042</td>\n",
       "      <td>2</td>\n",
       "      <td>31.0</td>\n",
       "      <td>31.000000</td>\n",
       "      <td>37.0042</td>\n",
       "      <td>37.0042</td>\n",
       "    </tr>\n",
       "    <tr>\n",
       "      <th>206</th>\n",
       "      <td>32.0</td>\n",
       "      <td>15.8500</td>\n",
       "      <td>1</td>\n",
       "      <td>32.0</td>\n",
       "      <td>32.000000</td>\n",
       "      <td>15.8500</td>\n",
       "      <td>15.8500</td>\n",
       "    </tr>\n",
       "  </tbody>\n",
       "</table>\n",
       "</div>"
      ],
      "text/plain": [
       "      Age     Fare  Family  Age_median   Age_Mean  Fare_median  Fare_mean\n",
       "26    NaN   7.2250       0        28.0  29.498846       7.2250     7.2250\n",
       "22   15.0   8.0292       0        15.0  15.000000       8.0292     8.0292\n",
       "651  18.0  23.0000       1        18.0  18.000000      23.0000    23.0000\n",
       "817  31.0  37.0042       2        31.0  31.000000      37.0042    37.0042\n",
       "206  32.0  15.8500       1        32.0  32.000000      15.8500    15.8500"
      ]
     },
     "execution_count": 14,
     "metadata": {},
     "output_type": "execute_result"
    }
   ],
   "source": [
    "X_train.sample(5)"
   ]
  },
  {
   "cell_type": "code",
   "execution_count": 17,
   "id": "5b1ed9c4",
   "metadata": {},
   "outputs": [
    {
     "name": "stdout",
     "output_type": "stream",
     "text": [
      "Original Age Variable Variance: 210.2517072477438\n",
      "Age Variable Variance After Mean Age Imputation: 168.8519336687225\n",
      "Age Variable Variance After Meadin Age Imputaion 169.20731007048096\n",
      "Original Fare Variable Variance: 2761.031434948639\n",
      "Fare Variable Variance After Mean Fare Imputation: 2621.2323749512393\n",
      "Fare Variable Variance After Median Fare Imputation: 2637.01248167777\n"
     ]
    }
   ],
   "source": [
    "print(\"Original Age Variable Variance:\",X_train[\"Age\"].var())\n",
    "print(\"Age Variable Variance After Mean Age Imputation:\",X_train[\"Age_Mean\"].var())\n",
    "print(\"Age Variable Variance After Meadin Age Imputaion\",X_train[\"Age_median\"].var())\n",
    "\n",
    "print(\"Original Fare Variable Variance:\",X_train[\"Fare\"].var())\n",
    "print(\"Fare Variable Variance After Mean Fare Imputation:\",X_train[\"Fare_mean\"].var())\n",
    "print(\"Fare Variable Variance After Median Fare Imputation:\",X_train[\"Fare_median\"].var())\n",
    "#We are checking the Variance Before and after the imputation "
   ]
  },
  {
   "cell_type": "markdown",
   "id": "751a0717",
   "metadata": {},
   "source": [
    "#### We can see that Variance in Fare in Slightly Canges cause null values in Fare is relatively low <br> while in Age Column Variance is chnages cause large number of Null Values"
   ]
  },
  {
   "cell_type": "code",
   "execution_count": null,
   "id": "94d7a435",
   "metadata": {},
   "outputs": [],
   "source": []
  }
 ],
 "metadata": {
  "kernelspec": {
   "display_name": "Python 3 (ipykernel)",
   "language": "python",
   "name": "python3"
  },
  "language_info": {
   "codemirror_mode": {
    "name": "ipython",
    "version": 3
   },
   "file_extension": ".py",
   "mimetype": "text/x-python",
   "name": "python",
   "nbconvert_exporter": "python",
   "pygments_lexer": "ipython3",
   "version": "3.11.4"
  }
 },
 "nbformat": 4,
 "nbformat_minor": 5
}
