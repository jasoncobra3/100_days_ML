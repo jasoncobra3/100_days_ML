{
 "cells": [
  {
   "cell_type": "code",
   "execution_count": 7,
   "id": "9bcc7fe7",
   "metadata": {},
   "outputs": [],
   "source": [
    "import matplotlib.pyplot as plt\n",
    "import streamlit as st\n",
    "import numpy as np\n",
    "from sklearn.model_selection import train_test_split\n",
    "from sklearn.datasets import make_classification,make_blobs\n",
    "from sklearn.linear_model import LogisticRegression\n",
    "from sklearn.metrics import accuracy_score\n",
    "\n",
    "def load_initial_graph(dataset,ax):\n",
    "    if dataset == \"Binary\":\n",
    "        X, y = make_blobs(n_features=2, centers=2,random_state=6)\n",
    "        ax.scatter(X.T[0], X.T[1], c=y, cmap='rainbow')\n",
    "        return X,y\n",
    "    elif dataset == \"Multiclass\":\n",
    "        X,y = make_blobs(n_features=2, centers=3,random_state=2)\n",
    "        ax.scatter(X.T[0], X.T[1], c=y, cmap='rainbow')\n",
    "        return X,y\n",
    "\n",
    "def draw_meshgrid():\n",
    "    a = np.arange(start=X[:, 0].min() - 1, stop=X[:, 0].max() + 1, step=0.01)\n",
    "    b = np.arange(start=X[:, 1].min() - 1, stop=X[:, 1].max() + 1, step=0.01)\n",
    "\n",
    "    XX, YY = np.meshgrid(a, b)\n",
    "\n",
    "    input_array = np.array([XX.ravel(), YY.ravel()]).T\n",
    "\n",
    "    return XX, YY, input_array\n",
    "\n",
    "\n",
    "plt.style.use('fivethirtyeight')\n",
    "\n",
    "st.sidebar.markdown(\"# Logistic Regression Classifier\")\n",
    "\n",
    "dataset = st.sidebar.selectbox(\n",
    "    'Select Dataset',\n",
    "    ('Binary','Multiclass')\n",
    ")\n",
    "\n",
    "penalty = st.sidebar.selectbox(\n",
    "    'Regularization',\n",
    "    ('l2', 'l1','elasticnet','none')\n",
    ")\n",
    "\n",
    "c_input = float(st.sidebar.number_input('C',value=1.0))\n",
    "\n",
    "solver = st.sidebar.selectbox(\n",
    "    'Solver',\n",
    "    ('newton-cg', 'lbfgs', 'liblinear', 'sag', 'saga')\n",
    ")\n",
    "\n",
    "max_iter = int(st.sidebar.number_input('Max Iterations',value=100))\n",
    "\n",
    "multi_class = st.sidebar.selectbox(\n",
    "    'Multi Class',\n",
    "    ('auto', 'ovr', 'multinomial')\n",
    ")\n",
    "\n",
    "l1_ratio = int(st.sidebar.number_input('l1 Ratio'))\n",
    "\n",
    "# Load initial graph\n",
    "fig, ax = plt.subplots()\n",
    "\n",
    "# Plot initial graph\n",
    "X,y = load_initial_graph(dataset,ax)\n",
    "X_train, X_test, y_train, y_test = train_test_split(X, y, random_state=42)\n",
    "orig = st.pyplot(fig)\n",
    "\n",
    "if st.sidebar.button('Run Algorithm'):\n",
    "    orig.empty()\n",
    "\n",
    "    clf = LogisticRegression(penalty=penalty,C=c_input,solver=solver,max_iter=max_iter,multi_class=multi_class,l1_ratio=l1_ratio)\n",
    "    clf.fit(X_train,y_train)\n",
    "\n",
    "    y_pred = clf.predict(X_test)\n",
    "\n",
    "    XX, YY, input_array = draw_meshgrid()\n",
    "    labels = clf.predict(input_array)\n",
    "\n",
    "    ax.contourf(XX, YY, labels.reshape(XX.shape), alpha=0.5, cmap='rainbow')\n",
    "    plt.xlabel(\"Col1\")\n",
    "    plt.ylabel(\"Col2\")\n",
    "    orig = st.pyplot(fig)\n",
    "    st.subheader(\"Accuracy for Logistic Regression  \" + str(round(accuracy_score(y_test, y_pred), 2)))\n"
   ]
  },
  {
   "cell_type": "code",
   "execution_count": 8,
   "id": "5757dcd8",
   "metadata": {},
   "outputs": [
    {
     "name": "stdout",
     "output_type": "stream",
     "text": [
      "^C\n"
     ]
    }
   ],
   "source": [
    "!streamlit run \"C:\\Users\\acer\\anaconda3\\Lib\\site-packages\\ipykernel_launcher.py\" "
   ]
  },
  {
   "cell_type": "markdown",
   "id": "322b6576",
   "metadata": {},
   "source": [
    "# Conclude"
   ]
  }
 ],
 "metadata": {
  "kernelspec": {
   "display_name": "Python 3 (ipykernel)",
   "language": "python",
   "name": "python3"
  },
  "language_info": {
   "codemirror_mode": {
    "name": "ipython",
    "version": 3
   },
   "file_extension": ".py",
   "mimetype": "text/x-python",
   "name": "python",
   "nbconvert_exporter": "python",
   "pygments_lexer": "ipython3",
   "version": "3.11.4"
  }
 },
 "nbformat": 4,
 "nbformat_minor": 5
}
