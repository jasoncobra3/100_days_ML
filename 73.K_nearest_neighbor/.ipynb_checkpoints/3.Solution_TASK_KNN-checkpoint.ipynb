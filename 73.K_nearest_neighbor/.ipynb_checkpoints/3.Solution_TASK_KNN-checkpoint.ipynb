{
 "cells": [
  {
   "cell_type": "markdown",
   "metadata": {
    "id": "jAJcqSvWXX0B"
   },
   "source": [
    "### `Task` Train a KNN model on glass type dataset and find best n_neighnours.\n",
    "\n",
    "Data Link: https://drive.google.com/file/d/17cbDNBmys04MJqQfrma3jd72VPMnxIq0/view?usp=share_link"
   ]
  },
  {
   "cell_type": "markdown",
   "metadata": {
    "id": "N_oRxZM1XyqS"
   },
   "source": [
    "#### `Solution`\n"
   ]
  },
  {
   "cell_type": "code",
   "execution_count": 2,
   "metadata": {
    "colab": {
     "base_uri": "https://localhost:8080/"
    },
    "id": "n_ilVVxbX04n",
    "outputId": "4a764a4d-9b7f-4a68-b65e-f3bf0e3f71ef"
   },
   "outputs": [
    {
     "name": "stdout",
     "output_type": "stream",
     "text": [
      "<class 'pandas.core.frame.DataFrame'>\n",
      "Index: 213 entries, 0 to 213\n",
      "Data columns (total 10 columns):\n",
      " #   Column  Non-Null Count  Dtype  \n",
      "---  ------  --------------  -----  \n",
      " 0   RI      213 non-null    float64\n",
      " 1   Na      213 non-null    float64\n",
      " 2   Mg      213 non-null    float64\n",
      " 3   Al      213 non-null    float64\n",
      " 4   Si      213 non-null    float64\n",
      " 5   K       213 non-null    float64\n",
      " 6   Ca      213 non-null    float64\n",
      " 7   Ba      213 non-null    float64\n",
      " 8   Fe      213 non-null    float64\n",
      " 9   Type    213 non-null    int64  \n",
      "dtypes: float64(9), int64(1)\n",
      "memory usage: 18.3 KB\n"
     ]
    }
   ],
   "source": [
    "# Importing libraries and functions\n",
    "\n",
    "import pandas as pd\n",
    "\n",
    "import matplotlib.pyplot as plt\n",
    "import seaborn as sns\n",
    "\n",
    "from sklearn.model_selection import train_test_split, GridSearchCV\n",
    "from sklearn.neighbors import KNeighborsClassifier\n",
    "from sklearn.metrics import accuracy_score\n",
    "from sklearn.preprocessing import MinMaxScaler\n",
    "\n",
    "\n",
    "# Load the dataset\n",
    "data = pd.read_csv('glass.csv')\n",
    "data.drop_duplicates(inplace=True)\n",
    "data.info()"
   ]
  },
  {
   "cell_type": "code",
   "execution_count": 3,
   "metadata": {
    "id": "q2F-AYEBYNL5"
   },
   "outputs": [],
   "source": [
    "# Separate the features and target variable\n",
    "X = data.drop('Type', axis=1)\n",
    "y = data['Type']\n",
    "\n",
    "# Split the data into training and testing sets\n",
    "X_train, X_test, y_train, y_test = train_test_split(X, y, test_size=0.2, random_state=42)"
   ]
  },
  {
   "cell_type": "code",
   "execution_count": 4,
   "metadata": {
    "id": "2XjhtKUDYNIu"
   },
   "outputs": [],
   "source": [
    "# Scaling Data\n",
    "\n",
    "scaler = MinMaxScaler()\n",
    "X_train = scaler.fit_transform(X_train)\n",
    "X_test = scaler.fit_transform(X_test)"
   ]
  },
  {
   "cell_type": "code",
   "execution_count": 5,
   "metadata": {
    "id": "Q3s5vbhhYx-u"
   },
   "outputs": [],
   "source": [
    "# Creating a model function\n",
    "\n",
    "def knn_func(train_x, train_label, test_x, k):\n",
    "    \"\"\"\n",
    "    train_x - train features\n",
    "    train_label - train targets\n",
    "    test_x - validation data(features)\n",
    "    k - nearest neighbours <int>\n",
    "    \"\"\"\n",
    "    knn = KNeighborsClassifier(n_neighbors = k)\n",
    "    knn.fit(train_x, train_label)\n",
    "    prediction = knn.predict(test_x)\n",
    "    return prediction"
   ]
  },
  {
   "cell_type": "code",
   "execution_count": 6,
   "metadata": {
    "colab": {
     "base_uri": "https://localhost:8080/"
    },
    "id": "HoNXURIyYyCP",
    "outputId": "6a394a2a-a0e6-4510-a25d-993ad8c7fb2b"
   },
   "outputs": [
    {
     "data": {
      "text/plain": [
       "14.594519519326424"
      ]
     },
     "execution_count": 6,
     "metadata": {},
     "output_type": "execute_result"
    }
   ],
   "source": [
    "# For best n_neighbours\n",
    "import math\n",
    "n = data.shape[0]\n",
    "k_max = math.sqrt(n)\n",
    "k_max"
   ]
  },
  {
   "cell_type": "code",
   "execution_count": 7,
   "metadata": {
    "colab": {
     "base_uri": "https://localhost:8080/",
     "height": 449
    },
    "id": "9qLgnPa5ZvG-",
    "outputId": "d7fc0789-5f2e-419d-8eb2-6beceb78e8f5"
   },
   "outputs": [
    {
     "data": {
      "image/png": "[encoded data removed]",
      "text/plain": [
       "<Figure size 640x480 with 1 Axes>"
      ]
     },
     "metadata": {},
     "output_type": "display_data"
    }
   ],
   "source": [
    "normal_accuracy = []\n",
    "k_values = range(1,16)\n",
    "\n",
    "for k in k_values :\n",
    "    y_pred = knn_func(X_train,y_train,X_test,k)\n",
    "    accur = accuracy_score(y_test,y_pred)\n",
    "    normal_accuracy.append(accur)\n",
    "\n",
    "plt.plot(k_values,normal_accuracy,c=\"grey\",marker=\".\",ms=7,mfc=\"black\",mec=\"green\")\n",
    "plt.xlabel(\"K\")\n",
    "plt.ylabel(\"Accuracy\")\n",
    "plt.grid(True)\n",
    "plt.show()"
   ]
  },
  {
   "cell_type": "markdown",
   "metadata": {
    "id": "kCDO8-v8WRru"
   },
   "source": [
    "* From above graph of Accuracy vs K, best value for **n_beighbours is 8**. with accuracy above 65."
   ]
  },
  {
   "cell_type": "markdown",
   "metadata": {
    "id": "NKg0sle2WhSI"
   },
   "source": [
    "## Happy Learning !"
   ]
  }
 ],
 "metadata": {
  "colab": {
   "provenance": []
  },
  "kernelspec": {
   "display_name": "Python 3 (ipykernel)",
   "language": "python",
   "name": "python3"
  },
  "language_info": {
   "codemirror_mode": {
    "name": "ipython",
    "version": 3
   },
   "file_extension": ".py",
   "mimetype": "text/x-python",
   "name": "python",
   "nbconvert_exporter": "python",
   "pygments_lexer": "ipython3",
   "version": "3.11.7"
  }
 },
 "nbformat": 4,
 "nbformat_minor": 4
}
