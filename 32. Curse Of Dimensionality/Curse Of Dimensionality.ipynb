{
 "cells": [
  {
   "cell_type": "markdown",
   "id": "9adb0ba2",
   "metadata": {},
   "source": [
    "# Curse Of Dimensionality"
   ]
  },
  {
   "cell_type": "markdown",
   "id": "e1f34317",
   "metadata": {},
   "source": [
    "## Dimensions->Features <hr> Curse OF Features"
   ]
  },
  {
   "cell_type": "markdown",
   "id": "23df80c9",
   "metadata": {},
   "source": [
    "### 1.When The number of features in data decreses it will not Useful to data such that it reduces Model Performance<br> 2. When the number of features in data increses you might think it is useful , it is useful for model to improve its performance , but beyond a certain limit increase in number of features may degrade the performance of Model"
   ]
  },
  {
   "cell_type": "markdown",
   "id": "01289b45",
   "metadata": {},
   "source": [
    "## Examples are <br> 1.Images Data <br> 2.Text Data <br> These data types are exaple of Curse of Dimensionallity"
   ]
  },
  {
   "cell_type": "markdown",
   "id": "c6cec8a3",
   "metadata": {},
   "source": [
    "# As the numbers Of Column increases it will cause <ins>Higher Dimension </ins> in the Data"
   ]
  },
  {
   "cell_type": "markdown",
   "id": "d157fc07",
   "metadata": {},
   "source": [
    "## Higher Dimension Arises the problem of <ins>Sparsity<ins>"
   ]
  },
  {
   "cell_type": "markdown",
   "id": "26d06974",
   "metadata": {},
   "source": [
    "# <ins>Sparsity</ins> ->occurs when certain attributes or columns in a dataset have a large number of missing values compared to the total number of records. "
   ]
  },
  {
   "cell_type": "markdown",
   "id": "e7e7f36f",
   "metadata": {},
   "source": [
    "### As the dimension in the data increases the Sparsity Also Increase"
   ]
  },
  {
   "cell_type": "markdown",
   "id": "059aa644",
   "metadata": {},
   "source": [
    "## <ins> Disadvantage</ins><br>1.Performance Decrease <br> 2.Increases Computation power"
   ]
  },
  {
   "cell_type": "markdown",
   "id": "91f5754a",
   "metadata": {},
   "source": [
    "## <ins>Solution</ins>"
   ]
  },
  {
   "cell_type": "markdown",
   "id": "c73089d4",
   "metadata": {},
   "source": [
    "# Dimensionality Reduction<hr> 1. Feature selection <br> A] Forward Selection <br> B]Backward Elemination <hr>2. Feature Extraction <br> A]PCA <br> B]LDA <br> C]Tsre"
   ]
  },
  {
   "cell_type": "markdown",
   "id": "21e44ab2",
   "metadata": {},
   "source": [
    "# <hr>"
   ]
  },
  {
   "cell_type": "markdown",
   "id": "bbb33289",
   "metadata": {},
   "source": [
    "# Cocnclude"
   ]
  }
 ],
 "metadata": {
  "kernelspec": {
   "display_name": "Python 3 (ipykernel)",
   "language": "python",
   "name": "python3"
  },
  "language_info": {
   "codemirror_mode": {
    "name": "ipython",
    "version": 3
   },
   "file_extension": ".py",
   "mimetype": "text/x-python",
   "name": "python",
   "nbconvert_exporter": "python",
   "pygments_lexer": "ipython3",
   "version": "3.11.4"
  }
 },
 "nbformat": 4,
 "nbformat_minor": 5
}
