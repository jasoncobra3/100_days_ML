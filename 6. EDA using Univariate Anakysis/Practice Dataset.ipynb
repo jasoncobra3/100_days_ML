{
 "cells": [
  {
   "cell_type": "code",
   "execution_count": 2,
   "id": "d9f0ddd6",
   "metadata": {},
   "outputs": [],
   "source": [
    "import pandas as pd\n",
    "import numpy as np\n",
    "import seaborn as sns\n",
    "import matplotlib.pyplot as plt"
   ]
  },
  {
   "cell_type": "code",
   "execution_count": 3,
   "id": "9798c12f",
   "metadata": {},
   "outputs": [],
   "source": [
    "df=pd.read_csv(\"churn_prediction.csv\")"
   ]
  },
  {
   "cell_type": "code",
   "execution_count": 4,
   "id": "109740f6",
   "metadata": {},
   "outputs": [
    {
     "data": {
      "text/html": [
       "<div>\n",
       "<style scoped>\n",
       "    .dataframe tbody tr th:only-of-type {\n",
       "        vertical-align: middle;\n",
       "    }\n",
       "\n",
       "    .dataframe tbody tr th {\n",
       "        vertical-align: top;\n",
       "    }\n",
       "\n",
       "    .dataframe thead th {\n",
       "        text-align: right;\n",
       "    }\n",
       "</style>\n",
       "<table border=\"1\" class=\"dataframe\">\n",
       "  <thead>\n",
       "    <tr style=\"text-align: right;\">\n",
       "      <th></th>\n",
       "      <th>customer_id</th>\n",
       "      <th>vintage</th>\n",
       "      <th>age</th>\n",
       "      <th>gender</th>\n",
       "      <th>dependents</th>\n",
       "      <th>occupation</th>\n",
       "      <th>city</th>\n",
       "      <th>customer_nw_category</th>\n",
       "      <th>branch_code</th>\n",
       "      <th>days_since_last_transaction</th>\n",
       "      <th>...</th>\n",
       "      <th>previous_month_end_balance</th>\n",
       "      <th>average_monthly_balance_prevQ</th>\n",
       "      <th>average_monthly_balance_prevQ2</th>\n",
       "      <th>current_month_credit</th>\n",
       "      <th>previous_month_credit</th>\n",
       "      <th>current_month_debit</th>\n",
       "      <th>previous_month_debit</th>\n",
       "      <th>current_month_balance</th>\n",
       "      <th>previous_month_balance</th>\n",
       "      <th>churn</th>\n",
       "    </tr>\n",
       "  </thead>\n",
       "  <tbody>\n",
       "    <tr>\n",
       "      <th>0</th>\n",
       "      <td>1</td>\n",
       "      <td>3135</td>\n",
       "      <td>66</td>\n",
       "      <td>0</td>\n",
       "      <td>0.0</td>\n",
       "      <td>0</td>\n",
       "      <td>187.0</td>\n",
       "      <td>2</td>\n",
       "      <td>755</td>\n",
       "      <td>224.0</td>\n",
       "      <td>...</td>\n",
       "      <td>1458.71</td>\n",
       "      <td>1458.71</td>\n",
       "      <td>1449.07</td>\n",
       "      <td>0.20</td>\n",
       "      <td>0.20</td>\n",
       "      <td>0.20</td>\n",
       "      <td>0.20</td>\n",
       "      <td>1458.71</td>\n",
       "      <td>1458.71</td>\n",
       "      <td>0</td>\n",
       "    </tr>\n",
       "    <tr>\n",
       "      <th>1</th>\n",
       "      <td>6</td>\n",
       "      <td>2531</td>\n",
       "      <td>42</td>\n",
       "      <td>0</td>\n",
       "      <td>2.0</td>\n",
       "      <td>0</td>\n",
       "      <td>1494.0</td>\n",
       "      <td>3</td>\n",
       "      <td>388</td>\n",
       "      <td>58.0</td>\n",
       "      <td>...</td>\n",
       "      <td>1401.72</td>\n",
       "      <td>1643.31</td>\n",
       "      <td>1871.12</td>\n",
       "      <td>0.33</td>\n",
       "      <td>714.61</td>\n",
       "      <td>588.62</td>\n",
       "      <td>1538.06</td>\n",
       "      <td>1157.15</td>\n",
       "      <td>1677.16</td>\n",
       "      <td>1</td>\n",
       "    </tr>\n",
       "    <tr>\n",
       "      <th>2</th>\n",
       "      <td>7</td>\n",
       "      <td>263</td>\n",
       "      <td>42</td>\n",
       "      <td>1</td>\n",
       "      <td>0.0</td>\n",
       "      <td>0</td>\n",
       "      <td>1096.0</td>\n",
       "      <td>2</td>\n",
       "      <td>1666</td>\n",
       "      <td>60.0</td>\n",
       "      <td>...</td>\n",
       "      <td>16059.34</td>\n",
       "      <td>15211.29</td>\n",
       "      <td>13798.82</td>\n",
       "      <td>0.36</td>\n",
       "      <td>0.36</td>\n",
       "      <td>857.50</td>\n",
       "      <td>286.07</td>\n",
       "      <td>15719.44</td>\n",
       "      <td>15349.75</td>\n",
       "      <td>0</td>\n",
       "    </tr>\n",
       "    <tr>\n",
       "      <th>3</th>\n",
       "      <td>8</td>\n",
       "      <td>5922</td>\n",
       "      <td>72</td>\n",
       "      <td>0</td>\n",
       "      <td>0.0</td>\n",
       "      <td>1</td>\n",
       "      <td>1020.0</td>\n",
       "      <td>1</td>\n",
       "      <td>1</td>\n",
       "      <td>98.0</td>\n",
       "      <td>...</td>\n",
       "      <td>7714.19</td>\n",
       "      <td>7859.74</td>\n",
       "      <td>11232.37</td>\n",
       "      <td>0.64</td>\n",
       "      <td>0.64</td>\n",
       "      <td>1299.64</td>\n",
       "      <td>439.26</td>\n",
       "      <td>7076.06</td>\n",
       "      <td>7755.98</td>\n",
       "      <td>0</td>\n",
       "    </tr>\n",
       "    <tr>\n",
       "      <th>4</th>\n",
       "      <td>9</td>\n",
       "      <td>1145</td>\n",
       "      <td>46</td>\n",
       "      <td>0</td>\n",
       "      <td>0.0</td>\n",
       "      <td>0</td>\n",
       "      <td>623.0</td>\n",
       "      <td>2</td>\n",
       "      <td>317</td>\n",
       "      <td>172.0</td>\n",
       "      <td>...</td>\n",
       "      <td>8519.53</td>\n",
       "      <td>6511.82</td>\n",
       "      <td>16314.17</td>\n",
       "      <td>0.27</td>\n",
       "      <td>0.27</td>\n",
       "      <td>443.13</td>\n",
       "      <td>5688.44</td>\n",
       "      <td>8563.84</td>\n",
       "      <td>5317.04</td>\n",
       "      <td>0</td>\n",
       "    </tr>\n",
       "  </tbody>\n",
       "</table>\n",
       "<p>5 rows × 21 columns</p>\n",
       "</div>"
      ],
      "text/plain": [
       "   customer_id  vintage  age  gender  dependents  occupation    city  \\\n",
       "0            1     3135   66       0         0.0           0   187.0   \n",
       "1            6     2531   42       0         2.0           0  1494.0   \n",
       "2            7      263   42       1         0.0           0  1096.0   \n",
       "3            8     5922   72       0         0.0           1  1020.0   \n",
       "4            9     1145   46       0         0.0           0   623.0   \n",
       "\n",
       "   customer_nw_category  branch_code  days_since_last_transaction  ...  \\\n",
       "0                     2          755                        224.0  ...   \n",
       "1                     3          388                         58.0  ...   \n",
       "2                     2         1666                         60.0  ...   \n",
       "3                     1            1                         98.0  ...   \n",
       "4                     2          317                        172.0  ...   \n",
       "\n",
       "   previous_month_end_balance  average_monthly_balance_prevQ  \\\n",
       "0                     1458.71                        1458.71   \n",
       "1                     1401.72                        1643.31   \n",
       "2                    16059.34                       15211.29   \n",
       "3                     7714.19                        7859.74   \n",
       "4                     8519.53                        6511.82   \n",
       "\n",
       "   average_monthly_balance_prevQ2  current_month_credit  \\\n",
       "0                         1449.07                  0.20   \n",
       "1                         1871.12                  0.33   \n",
       "2                        13798.82                  0.36   \n",
       "3                        11232.37                  0.64   \n",
       "4                        16314.17                  0.27   \n",
       "\n",
       "   previous_month_credit  current_month_debit  previous_month_debit  \\\n",
       "0                   0.20                 0.20                  0.20   \n",
       "1                 714.61               588.62               1538.06   \n",
       "2                   0.36               857.50                286.07   \n",
       "3                   0.64              1299.64                439.26   \n",
       "4                   0.27               443.13               5688.44   \n",
       "\n",
       "   current_month_balance  previous_month_balance  churn  \n",
       "0                1458.71                 1458.71      0  \n",
       "1                1157.15                 1677.16      1  \n",
       "2               15719.44                15349.75      0  \n",
       "3                7076.06                 7755.98      0  \n",
       "4                8563.84                 5317.04      0  \n",
       "\n",
       "[5 rows x 21 columns]"
      ]
     },
     "execution_count": 4,
     "metadata": {},
     "output_type": "execute_result"
    }
   ],
   "source": [
    "df.head()"
   ]
  },
  {
   "cell_type": "code",
   "execution_count": 5,
   "id": "12df593d",
   "metadata": {},
   "outputs": [
    {
     "data": {
      "text/plain": [
       "(22067, 21)"
      ]
     },
     "execution_count": 5,
     "metadata": {},
     "output_type": "execute_result"
    }
   ],
   "source": [
    "df.shape"
   ]
  },
  {
   "cell_type": "code",
   "execution_count": 7,
   "id": "e3475059",
   "metadata": {},
   "outputs": [
    {
     "data": {
      "text/html": [
       "<div>\n",
       "<style scoped>\n",
       "    .dataframe tbody tr th:only-of-type {\n",
       "        vertical-align: middle;\n",
       "    }\n",
       "\n",
       "    .dataframe tbody tr th {\n",
       "        vertical-align: top;\n",
       "    }\n",
       "\n",
       "    .dataframe thead th {\n",
       "        text-align: right;\n",
       "    }\n",
       "</style>\n",
       "<table border=\"1\" class=\"dataframe\">\n",
       "  <thead>\n",
       "    <tr style=\"text-align: right;\">\n",
       "      <th></th>\n",
       "      <th>customer_id</th>\n",
       "      <th>vintage</th>\n",
       "      <th>age</th>\n",
       "      <th>gender</th>\n",
       "      <th>dependents</th>\n",
       "      <th>occupation</th>\n",
       "      <th>city</th>\n",
       "      <th>customer_nw_category</th>\n",
       "      <th>branch_code</th>\n",
       "      <th>days_since_last_transaction</th>\n",
       "      <th>...</th>\n",
       "      <th>previous_month_end_balance</th>\n",
       "      <th>average_monthly_balance_prevQ</th>\n",
       "      <th>average_monthly_balance_prevQ2</th>\n",
       "      <th>current_month_credit</th>\n",
       "      <th>previous_month_credit</th>\n",
       "      <th>current_month_debit</th>\n",
       "      <th>previous_month_debit</th>\n",
       "      <th>current_month_balance</th>\n",
       "      <th>previous_month_balance</th>\n",
       "      <th>churn</th>\n",
       "    </tr>\n",
       "  </thead>\n",
       "  <tbody>\n",
       "    <tr>\n",
       "      <th>19966</th>\n",
       "      <td>27366</td>\n",
       "      <td>5834</td>\n",
       "      <td>66</td>\n",
       "      <td>0</td>\n",
       "      <td>0.0</td>\n",
       "      <td>2</td>\n",
       "      <td>318.0</td>\n",
       "      <td>1</td>\n",
       "      <td>1306</td>\n",
       "      <td>3.0</td>\n",
       "      <td>...</td>\n",
       "      <td>4859.00</td>\n",
       "      <td>4704.07</td>\n",
       "      <td>7808.30</td>\n",
       "      <td>51343.79</td>\n",
       "      <td>2071.67</td>\n",
       "      <td>55313.28</td>\n",
       "      <td>1379.34</td>\n",
       "      <td>5481.84</td>\n",
       "      <td>4679.54</td>\n",
       "      <td>0</td>\n",
       "    </tr>\n",
       "    <tr>\n",
       "      <th>11730</th>\n",
       "      <td>16052</td>\n",
       "      <td>673</td>\n",
       "      <td>20</td>\n",
       "      <td>0</td>\n",
       "      <td>0.0</td>\n",
       "      <td>3</td>\n",
       "      <td>145.0</td>\n",
       "      <td>2</td>\n",
       "      <td>1366</td>\n",
       "      <td>269.0</td>\n",
       "      <td>...</td>\n",
       "      <td>3033.50</td>\n",
       "      <td>3044.82</td>\n",
       "      <td>3044.46</td>\n",
       "      <td>0.44</td>\n",
       "      <td>0.44</td>\n",
       "      <td>0.44</td>\n",
       "      <td>0.44</td>\n",
       "      <td>3031.04</td>\n",
       "      <td>3044.56</td>\n",
       "      <td>0</td>\n",
       "    </tr>\n",
       "    <tr>\n",
       "      <th>3562</th>\n",
       "      <td>4861</td>\n",
       "      <td>1872</td>\n",
       "      <td>78</td>\n",
       "      <td>0</td>\n",
       "      <td>0.0</td>\n",
       "      <td>1</td>\n",
       "      <td>834.0</td>\n",
       "      <td>2</td>\n",
       "      <td>460</td>\n",
       "      <td>10.0</td>\n",
       "      <td>...</td>\n",
       "      <td>3158.28</td>\n",
       "      <td>2875.24</td>\n",
       "      <td>2329.00</td>\n",
       "      <td>71.73</td>\n",
       "      <td>0.30</td>\n",
       "      <td>3143.16</td>\n",
       "      <td>0.30</td>\n",
       "      <td>2318.38</td>\n",
       "      <td>3158.28</td>\n",
       "      <td>1</td>\n",
       "    </tr>\n",
       "    <tr>\n",
       "      <th>4991</th>\n",
       "      <td>6814</td>\n",
       "      <td>2272</td>\n",
       "      <td>61</td>\n",
       "      <td>0</td>\n",
       "      <td>0.0</td>\n",
       "      <td>2</td>\n",
       "      <td>1084.0</td>\n",
       "      <td>3</td>\n",
       "      <td>1102</td>\n",
       "      <td>167.0</td>\n",
       "      <td>...</td>\n",
       "      <td>13359.37</td>\n",
       "      <td>4519.18</td>\n",
       "      <td>8078.15</td>\n",
       "      <td>0.34</td>\n",
       "      <td>0.34</td>\n",
       "      <td>3933.58</td>\n",
       "      <td>523.39</td>\n",
       "      <td>11215.90</td>\n",
       "      <td>1292.98</td>\n",
       "      <td>0</td>\n",
       "    </tr>\n",
       "    <tr>\n",
       "      <th>5446</th>\n",
       "      <td>7430</td>\n",
       "      <td>767</td>\n",
       "      <td>42</td>\n",
       "      <td>1</td>\n",
       "      <td>2.0</td>\n",
       "      <td>2</td>\n",
       "      <td>1534.0</td>\n",
       "      <td>3</td>\n",
       "      <td>1496</td>\n",
       "      <td>26.0</td>\n",
       "      <td>...</td>\n",
       "      <td>944.12</td>\n",
       "      <td>2125.48</td>\n",
       "      <td>1221.91</td>\n",
       "      <td>1043.37</td>\n",
       "      <td>0.51</td>\n",
       "      <td>731.57</td>\n",
       "      <td>567.74</td>\n",
       "      <td>1728.52</td>\n",
       "      <td>1364.32</td>\n",
       "      <td>0</td>\n",
       "    </tr>\n",
       "  </tbody>\n",
       "</table>\n",
       "<p>5 rows × 21 columns</p>\n",
       "</div>"
      ],
      "text/plain": [
       "       customer_id  vintage  age  gender  dependents  occupation    city  \\\n",
       "19966        27366     5834   66       0         0.0           2   318.0   \n",
       "11730        16052      673   20       0         0.0           3   145.0   \n",
       "3562          4861     1872   78       0         0.0           1   834.0   \n",
       "4991          6814     2272   61       0         0.0           2  1084.0   \n",
       "5446          7430      767   42       1         2.0           2  1534.0   \n",
       "\n",
       "       customer_nw_category  branch_code  days_since_last_transaction  ...  \\\n",
       "19966                     1         1306                          3.0  ...   \n",
       "11730                     2         1366                        269.0  ...   \n",
       "3562                      2          460                         10.0  ...   \n",
       "4991                      3         1102                        167.0  ...   \n",
       "5446                      3         1496                         26.0  ...   \n",
       "\n",
       "       previous_month_end_balance  average_monthly_balance_prevQ  \\\n",
       "19966                     4859.00                        4704.07   \n",
       "11730                     3033.50                        3044.82   \n",
       "3562                      3158.28                        2875.24   \n",
       "4991                     13359.37                        4519.18   \n",
       "5446                       944.12                        2125.48   \n",
       "\n",
       "       average_monthly_balance_prevQ2  current_month_credit  \\\n",
       "19966                         7808.30              51343.79   \n",
       "11730                         3044.46                  0.44   \n",
       "3562                          2329.00                 71.73   \n",
       "4991                          8078.15                  0.34   \n",
       "5446                          1221.91               1043.37   \n",
       "\n",
       "       previous_month_credit  current_month_debit  previous_month_debit  \\\n",
       "19966                2071.67             55313.28               1379.34   \n",
       "11730                   0.44                 0.44                  0.44   \n",
       "3562                    0.30              3143.16                  0.30   \n",
       "4991                    0.34              3933.58                523.39   \n",
       "5446                    0.51               731.57                567.74   \n",
       "\n",
       "       current_month_balance  previous_month_balance  churn  \n",
       "19966                5481.84                 4679.54      0  \n",
       "11730                3031.04                 3044.56      0  \n",
       "3562                 2318.38                 3158.28      1  \n",
       "4991                11215.90                 1292.98      0  \n",
       "5446                 1728.52                 1364.32      0  \n",
       "\n",
       "[5 rows x 21 columns]"
      ]
     },
     "execution_count": 7,
     "metadata": {},
     "output_type": "execute_result"
    }
   ],
   "source": [
    "df.sample(5)"
   ]
  },
  {
   "cell_type": "code",
   "execution_count": 9,
   "id": "9b85d496",
   "metadata": {},
   "outputs": [
    {
     "data": {
      "text/plain": [
       "<Axes: xlabel='gender', ylabel='count'>"
      ]
     },
     "execution_count": 9,
     "metadata": {},
     "output_type": "execute_result"
    },
    {
     "data": {
      "image/png": "[encoded data removed]",
      "text/plain": [
       "<Figure size 640x480 with 1 Axes>"
      ]
     },
     "metadata": {},
     "output_type": "display_data"
    }
   ],
   "source": [
    "sns.countplot(x=\"gender\",data=df)"
   ]
  },
  {
   "cell_type": "code",
   "execution_count": 14,
   "id": "3c2c1c88",
   "metadata": {},
   "outputs": [
    {
     "data": {
      "text/plain": [
       "<Axes: ylabel='count'>"
      ]
     },
     "execution_count": 14,
     "metadata": {},
     "output_type": "execute_result"
    },
    {
     "data": {
      "image/png": "[encoded data removed]",
      "text/plain": [
       "<Figure size 640x480 with 1 Axes>"
      ]
     },
     "metadata": {},
     "output_type": "display_data"
    }
   ],
   "source": [
    "df[\"gender\"].value_counts().plot(kind=\"pie\",autopct=\"%.2f\")"
   ]
  },
  {
   "cell_type": "code",
   "execution_count": 16,
   "id": "dac1e26c",
   "metadata": {},
   "outputs": [
    {
     "data": {
      "text/plain": [
       "(array([ 155.,  301., 1405., 3933., 5004., 4027., 3094., 2409., 1120.,\n",
       "         619.]),\n",
       " array([ 1. ,  9.9, 18.8, 27.7, 36.6, 45.5, 54.4, 63.3, 72.2, 81.1, 90. ]),\n",
       " <BarContainer object of 10 artists>)"
      ]
     },
     "execution_count": 16,
     "metadata": {},
     "output_type": "execute_result"
    },
    {
     "data": {
      "image/png": "[encoded data removed]",
      "text/plain": [
       "<Figure size 640x480 with 1 Axes>"
      ]
     },
     "metadata": {},
     "output_type": "display_data"
    }
   ],
   "source": [
    "plt.hist(df[\"age\"])"
   ]
  },
  {
   "cell_type": "code",
   "execution_count": 17,
   "id": "2b3728e1",
   "metadata": {},
   "outputs": [
    {
     "name": "stderr",
     "output_type": "stream",
     "text": [
      "C:\\Users\\acer\\AppData\\Local\\Temp\\ipykernel_3580\\316555093.py:1: UserWarning: \n",
      "\n",
      "`distplot` is a deprecated function and will be removed in seaborn v0.14.0.\n",
      "\n",
      "Please adapt your code to use either `displot` (a figure-level function with\n",
      "similar flexibility) or `histplot` (an axes-level function for histograms).\n",
      "\n",
      "For a guide to updating your code to use the new functions, please see\n",
      "https://gist.github.com/mwaskom/de44147ed2974457ad6372750bbe5751\n",
      "\n",
      "  sns.distplot(df[\"age\"])\n"
     ]
    },
    {
     "data": {
      "text/plain": [
       "<Axes: xlabel='age', ylabel='Density'>"
      ]
     },
     "execution_count": 17,
     "metadata": {},
     "output_type": "execute_result"
    },
    {
     "data": {
      "image/png": "[encoded data removed]",
      "text/plain": [
       "<Figure size 640x480 with 1 Axes>"
      ]
     },
     "metadata": {},
     "output_type": "display_data"
    }
   ],
   "source": [
    "sns.distplot(df[\"age\"])"
   ]
  },
  {
   "cell_type": "code",
   "execution_count": 25,
   "id": "6e5ff3ff",
   "metadata": {},
   "outputs": [
    {
     "data": {
      "text/plain": [
       "<Axes: >"
      ]
     },
     "execution_count": 25,
     "metadata": {},
     "output_type": "execute_result"
    },
    {
     "data": {
      "image/png": "[encoded data removed]",
      "text/plain": [
       "<Figure size 640x480 with 1 Axes>"
      ]
     },
     "metadata": {},
     "output_type": "display_data"
    }
   ],
   "source": [
    "sns.boxplot(df[\"age\"])"
   ]
  },
  {
   "cell_type": "code",
   "execution_count": 26,
   "id": "7f7c1972",
   "metadata": {},
   "outputs": [
    {
     "data": {
      "text/plain": [
       "0.30709589335282683"
      ]
     },
     "execution_count": 26,
     "metadata": {},
     "output_type": "execute_result"
    }
   ],
   "source": [
    "df[\"age\"].skew()"
   ]
  },
  {
   "cell_type": "markdown",
   "id": "bd536a26",
   "metadata": {},
   "source": [
    "### conclude"
   ]
  },
  {
   "cell_type": "code",
   "execution_count": null,
   "id": "d5e0084b",
   "metadata": {},
   "outputs": [],
   "source": []
  }
 ],
 "metadata": {
  "kernelspec": {
   "display_name": "Python 3 (ipykernel)",
   "language": "python",
   "name": "python3"
  },
  "language_info": {
   "codemirror_mode": {
    "name": "ipython",
    "version": 3
   },
   "file_extension": ".py",
   "mimetype": "text/x-python",
   "name": "python",
   "nbconvert_exporter": "python",
   "pygments_lexer": "ipython3",
   "version": "3.11.4"
  }
 },
 "nbformat": 4,
 "nbformat_minor": 5
}
