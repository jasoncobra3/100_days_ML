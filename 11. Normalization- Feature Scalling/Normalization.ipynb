{
 "cells": [
  {
   "cell_type": "markdown",
   "id": "4dcc25b4",
   "metadata": {},
   "source": [
    "# Normalization"
   ]
  },
  {
   "cell_type": "markdown",
   "id": "a96d04f8",
   "metadata": {},
   "source": [
    "#### 1.What is normalization...?\n",
    "It is a technique often applied as part of data preparation for machine learning. The goal of normalization is to change the values of numeric columns in the dataset to use a common scale without distorting differences in the ranges of values or losing information."
   ]
  },
  {
   "cell_type": "markdown",
   "id": "7e4daddd",
   "metadata": {},
   "source": [
    "#### Types of Normalization\n",
    "-1.MinMax Scaling<br>\n",
    "-2.Mean Normalization<br>\n",
    "-3.MAxAbsolute Scalling<br>\n",
    "-4.Robust Scalling"
   ]
  },
  {
   "cell_type": "markdown",
   "id": "a190adde",
   "metadata": {},
   "source": [
    "#### 1.MinMax Scalling\n",
    "formula= x = (X-Xmin)/\n",
    "            (Xmax-Xmin)\n",
    "gives values to [0,1]\n"
   ]
  },
  {
   "cell_type": "markdown",
   "id": "b246a649",
   "metadata": {},
   "source": [
    "#### 2.Mean Normalization\n",
    "Xi=(Xi-Xmean)/(Xmax-Xmin)\n",
    "<br>used for centering data "
   ]
  },
  {
   "cell_type": "markdown",
   "id": "c2637151",
   "metadata": {},
   "source": [
    "#### 3.Max Absolute Scalling\n",
    "Xi=(Xi)/|Xmax|<br>\n",
    "Used when data is Sparsed contains 0"
   ]
  },
  {
   "cell_type": "markdown",
   "id": "b1a84291",
   "metadata": {},
   "source": [
    "#### 4.Robust Scalling\n",
    "Xi=(Xi-Xmedian)/IQR{75th - 25th}<br>\n",
    "Used when Outliers in data"
   ]
  },
  {
   "cell_type": "markdown",
   "id": "66e91aa5",
   "metadata": {},
   "source": [
    "#### MinMax Scalling used for Image Processing"
   ]
  },
  {
   "cell_type": "code",
   "execution_count": null,
   "id": "6cdb1593",
   "metadata": {},
   "outputs": [],
   "source": []
  }
 ],
 "metadata": {
  "kernelspec": {
   "display_name": "Python 3 (ipykernel)",
   "language": "python",
   "name": "python3"
  },
  "language_info": {
   "codemirror_mode": {
    "name": "ipython",
    "version": 3
   },
   "file_extension": ".py",
   "mimetype": "text/x-python",
   "name": "python",
   "nbconvert_exporter": "python",
   "pygments_lexer": "ipython3",
   "version": "3.11.4"
  }
 },
 "nbformat": 4,
 "nbformat_minor": 5
}
